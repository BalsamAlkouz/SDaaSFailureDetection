{
 "cells": [
  {
   "cell_type": "markdown",
   "metadata": {
    "_cell_guid": "b1076dfc-b9ad-4769-8c92-a6c4dae69d19",
    "_uuid": "8f2839f25d086af736a60e9eeb907d3b93b6e0e5"
   },
   "source": [
    "# **Introduction**\n"
   ]
  },
  {
   "cell_type": "code",
   "execution_count": 1,
   "metadata": {},
   "outputs": [],
   "source": [
    "import scipy.io #initializes libraries\n",
    "\n",
    "import time\n",
    "import math\n",
    "\n",
    "import torch\n",
    "import torch.nn as nn\n",
    "from torch.utils.data import TensorDataset, DataLoader\n",
    "\n",
    "import pandas as pd\n",
    "import numpy as np\n",
    "import matplotlib.pyplot as plt\n",
    "from sklearn.preprocessing import MinMaxScaler"
   ]
  },
  {
   "cell_type": "code",
   "execution_count": 2,
   "metadata": {},
   "outputs": [],
   "source": [
    "mat = scipy.io.loadmat('Oxford_Battery_Degradation_Dataset_1.mat') #reads dataset"
   ]
  },
  {
   "cell_type": "code",
   "execution_count": 3,
   "metadata": {},
   "outputs": [
    {
     "data": {
      "text/plain": [
       "dict_keys(['__header__', '__version__', '__globals__', 'Cell1', 'Cell2', 'Cell3', 'Cell4', 'Cell5', 'Cell6', 'Cell7', 'Cell8'])"
      ]
     },
     "execution_count": 3,
     "metadata": {},
     "output_type": "execute_result"
    }
   ],
   "source": [
    "mat.keys()"
   ]
  },
  {
   "cell_type": "code",
   "execution_count": 4,
   "metadata": {},
   "outputs": [],
   "source": [
    "cycle_time_series=2442"
   ]
  },
  {
   "cell_type": "code",
   "execution_count": 5,
   "metadata": {},
   "outputs": [],
   "source": [
    "input_data=[[],[],[],[]]\n",
    "\n",
    "CELL_SIZE = [83, 78, 82, 52, 49, 51, 82, 82] # number of the cycles for each cell\n",
    "counter=0\n",
    "for i in range(0, 8): #breaks down dataset to return the values that we need\n",
    "    cell_num = \"Cell{}\".format(i + 1)\n",
    "    for j in range(0, CELL_SIZE[i]):\n",
    "        curr=[]\n",
    "        for u in range (0,cycle_time_series):\n",
    "            cyc_num = \"cyc{:04d}\".format(j * 100) # if j=47, cyc_num = \"cyc4700\"; if j=1, cyc_num = \"cyc0100\"\n",
    "            try:\n",
    "                curr.append( mat[cell_num][0][cyc_num][0][0][\"C1dc\"][0][0]['T'][0][u][0])\n",
    "            except ValueError:\n",
    "                curr.append(float(\"NaN\"))\n",
    "        counter+=1\n",
    "        input_data[0].append(counter)\n",
    "        input_data[1].append(curr)\n",
    "        input_data[2].append(j)\n",
    "        input_data[3].append(i)\n",
    "        "
   ]
  },
  {
   "cell_type": "code",
   "execution_count": 6,
   "metadata": {},
   "outputs": [
    {
     "name": "stdout",
     "output_type": "stream",
     "text": [
      "559\n"
     ]
    },
    {
     "data": {
      "text/plain": [
       "2"
      ]
     },
     "execution_count": 6,
     "metadata": {},
     "output_type": "execute_result"
    }
   ],
   "source": [
    "print(len(input_data[1])) \n",
    "#inputdata[0:cyclenofromall, 1:q values, 2:cyclenumberwithincell, 3:cellno][cyclenofromall]\n",
    "input_data[3][170]"
   ]
  },
  {
   "cell_type": "code",
   "execution_count": 7,
   "metadata": {},
   "outputs": [
    {
     "name": "stdout",
     "output_type": "stream",
     "text": [
      "100122\n"
     ]
    }
   ],
   "source": [
    "nan_count = np.isnan(input_data[1][:]).sum()\n",
    "print(nan_count)"
   ]
  },
  {
   "cell_type": "code",
   "execution_count": 8,
   "metadata": {},
   "outputs": [],
   "source": [
    "#input_data[1][:]\n"
   ]
  },
  {
   "cell_type": "markdown",
   "metadata": {},
   "source": [
    "### Replace NANs"
   ]
  },
  {
   "cell_type": "code",
   "execution_count": 9,
   "metadata": {},
   "outputs": [
    {
     "name": "stdout",
     "output_type": "stream",
     "text": [
      "40.62510194133961\n"
     ]
    }
   ],
   "source": [
    "average = np.nanmean(input_data[1][:])\n",
    "print(average)\n",
    "input_data[1][:] = np.nan_to_num(input_data[1][:], nan=average)\n"
   ]
  },
  {
   "cell_type": "code",
   "execution_count": 10,
   "metadata": {},
   "outputs": [],
   "source": [
    "#input_data[1][:]"
   ]
  },
  {
   "cell_type": "markdown",
   "metadata": {},
   "source": [
    "## Calculate RUL"
   ]
  },
  {
   "cell_type": "code",
   "execution_count": 11,
   "metadata": {},
   "outputs": [],
   "source": [
    "# Define a function to calculate the remaining useful life (RUL)\n",
    "def add_rul():\n",
    "    RUL = []\n",
    "    # Calculate the RUL as the difference between the maximum cycle value and the cycle value for each cell\n",
    "    for i in range(len(input_data[1])):\n",
    "        RUL.append(CELL_SIZE[input_data[3][i]] - input_data[2][i])\n",
    "    return RUL"
   ]
  },
  {
   "cell_type": "code",
   "execution_count": 12,
   "metadata": {},
   "outputs": [
    {
     "data": {
      "text/plain": [
       "78"
      ]
     },
     "execution_count": 12,
     "metadata": {},
     "output_type": "execute_result"
    }
   ],
   "source": [
    "RUL=add_rul()\n",
    "RUL[83]"
   ]
  },
  {
   "cell_type": "code",
   "execution_count": 13,
   "metadata": {},
   "outputs": [],
   "source": [
    "#get shape of a list\n",
    "def get_shape(lst):\n",
    "    shape = []\n",
    "    while isinstance(lst, list):\n",
    "        shape.append(len(lst))\n",
    "        lst = lst[0] if lst else None\n",
    "    return shape"
   ]
  },
  {
   "cell_type": "code",
   "execution_count": 14,
   "metadata": {},
   "outputs": [
    {
     "name": "stdout",
     "output_type": "stream",
     "text": [
      "data shape:  [4, 559]\n",
      "ruls shape:  [559]\n"
     ]
    }
   ],
   "source": [
    "print(\"data shape: \", get_shape(input_data))\n",
    "print(\"ruls shape: \", get_shape(RUL))"
   ]
  },
  {
   "cell_type": "markdown",
   "metadata": {},
   "source": [
    "The shape of input_data is (4, 559), which means we have 559 cycles from the 8 cells with 1500 time steps and charge q reading in mAh at each time step.\n",
    "The shape of RUL is (559), which means we have the corresponding target RUL values for all the cell cycles."
   ]
  },
  {
   "cell_type": "code",
   "execution_count": 15,
   "metadata": {},
   "outputs": [
    {
     "name": "stdout",
     "output_type": "stream",
     "text": [
      "Maximum value of y:  41.611675\n",
      "Maximum value of all y:  42.901863\n",
      "Minimum value of all y:  0.52003038\n",
      "Minimum value of y:  40.188721\n",
      "Mid-line:  40.900198\n",
      "Mean-line:  40.6251019413396\n",
      "Variance of values above mid-line:  0.0927424807241084\n"
     ]
    },
    {
     "data": {
      "image/png": "[encoded data removed]",
      "text/plain": [
       "<Figure size 432x288 with 1 Axes>"
      ]
     },
     "metadata": {
      "needs_background": "light"
     },
     "output_type": "display_data"
    }
   ],
   "source": [
    "import copy\n",
    "### Plot sample reading\n",
    "# Extract x-axis and y-axis values\n",
    "cycle=55\n",
    "x = np.arange(0, cycle_time_series) # x-axis time series values from 0 to 2442\n",
    "y = input_data[1][cycle]\n",
    "#print(y)\n",
    "\n",
    "\n",
    "#get all values of q\n",
    "\n",
    "all_q_values=copy.deepcopy(input_data[1][:])\n",
    "#print(all_q_values)\n",
    "# Calculate mean value of all values of q\n",
    "# mean_y = np.mean(all_q_values)\n",
    "\n",
    "# Compute the mean of values above 10\n",
    "# array = np.array(all_q_values)\n",
    "# mask = array > 10\n",
    "# mean_y = np.mean(array[mask])\n",
    "\n",
    "mean_y = np.mean(all_q_values)\n",
    "\n",
    "# Calculate max and min values of y\n",
    "y_max = np.max(y)\n",
    "y_min = np.min(y)\n",
    "\n",
    "# Calculate max and min values of all y\n",
    "y_all_max = np.max(all_q_values)\n",
    "y_all_min = np.min(all_q_values)\n",
    "\n",
    "#print(y_all_max)\n",
    "\n",
    "\n",
    "# Calculate mid-line\n",
    "mid_line = (y_max + y_min) / 2\n",
    "\n",
    "print(\"Maximum value of y: \", y_max)\n",
    "print(\"Maximum value of all y: \", y_all_max)\n",
    "print(\"Minimum value of all y: \", y_all_min)\n",
    "\n",
    "\n",
    "print(\"Minimum value of y: \", y_min)\n",
    "print(\"Mid-line: \", mid_line)\n",
    "print(\"Mean-line: \", mean_y)\n",
    "\n",
    "# Calculate y-coordinates for lines 10% between mean_y and y_max/y_min\n",
    "y_25_above = mean_y + (0.03 * (y_all_max - mean_y))\n",
    "y_25_below = mean_y - (0.03 * (y_all_max - mean_y))\n",
    "\n",
    "# y_25_above =41\n",
    "# y_25_below=39\n",
    "\n",
    "# Calculate variance of values above mid_line\n",
    "above_midline = y > mean_y\n",
    "y_above_midline = y[above_midline]\n",
    "variance_above_midline = np.var(y_above_midline)\n",
    "\n",
    "print(\"Variance of values above mid-line: \", variance_above_midline)\n",
    "\n",
    "# Plot the data\n",
    "plt.plot(x, y) # Plot the data points\n",
    "plt.axhline(mean_y, color='b', linestyle='--', label='Theoretical') # Add the mean_y to the plot\n",
    "plt.axhline(y_25_above, color='g', linestyle='--', label='10% above Theoretical') # Add line 25% above Mid-line\n",
    "plt.axhline(y_25_below, color='g', linestyle='--', label='10% below Theoretical') # Add line 25% below Mid-line\n",
    "plt.xlabel('Timestamp') # Add x-axis label\n",
    "plt.ylabel('Sensor Reading') # Add y-axis label\n",
    "#plt.title('Plot of sensor data with Theoretical and 25% lines') # Add plot title\n",
    "plt.legend() # Add legend\n",
    "plt.show() # Show the plot\n"
   ]
  },
  {
   "cell_type": "markdown",
   "metadata": {},
   "source": [
    "# Margin-Aware Pruning"
   ]
  },
  {
   "cell_type": "code",
   "execution_count": 16,
   "metadata": {},
   "outputs": [],
   "source": [
    "def margin_prune (sample, theoritical, above, below):\n",
    "    #fig = plt.figure(figsize=(6, 4))\n",
    "    \n",
    "    # clip the curves to positive values only\n",
    "    sample_curve = np.clip(sample, theoritical, np.inf)\n",
    "    theoritical_curve = np.clip(theoritical, theoritical, np.inf)\n",
    "    \n",
    "    # plot the data\n",
    "    #plt.plot(theoritical_curve)\n",
    "    \n",
    "    # fill between the curves\n",
    "    #plt.fill_between(range(len(sample)), sample, theoritical, where=(sample > theoritical), interpolate=True, color='green', alpha=0.7)\n",
    "\n",
    "    # calculate the area\n",
    "    area = np.trapz(sample_curve - theoritical_curve, dx=1)\n",
    "    \n",
    "    #plt.title('Positive area between two curves: ' + str(area)  )\n",
    "    \n",
    "    # Plot the data\n",
    "#     plt.plot(sample, color='r') # Plot the data points\n",
    "#     plt.axhline(theoritical, color='b', linestyle='--', label='Theoretical') # Add the mean_y to the plot\n",
    "#     plt.axhline(above, color='g', linestyle='-.', label='Margin Above') # Add line 25% above Mid-line\n",
    "#     plt.axhline(below, color='g', linestyle='-.', label='Margin Below') # Add line 25% below Mid-line\n",
    "#     plt.xlabel('Timestamp',fontsize=14) # Add x-axis label\n",
    "#     plt.ylabel('Sensor Reading',fontsize=14) # Add y-axis label\n",
    "    \n",
    "    \n",
    "    # calculate the area between theoritical and above\n",
    "    theoritical_array = np.full((len(sample_curve),), theoritical)\n",
    "    above_array = np.full((len(sample_curve),), above)\n",
    "\n",
    "    abovearea = np.trapz(above_array - theoritical_array, dx=1)\n",
    "    #print(abovearea)\n",
    "#     plt.fill_between(range(len(theoritical_array)), above_array, theoritical_array, where=(above_array > theoritical_array), interpolate=True, color='pink', alpha=0.5)\n",
    "\n",
    "#     fig = plt.gcf()\n",
    "#     fig.set_facecolor('white')\n",
    "#     plt.gca().set_facecolor('white')\n",
    "\n",
    "#     # Add a border around the plot\n",
    "#     for spine in plt.gca().spines.values():\n",
    "#         spine.set_edgecolor('black')\n",
    "#         spine.set_linewidth(1)\n",
    "\n",
    "#     plt.savefig('sample3.png', dpi=300, bbox_inches='tight')\n",
    "    \n",
    "#     plt.show()\n",
    "    \n",
    "    failure=True\n",
    "    if(abovearea<=area):\n",
    "        failure=True\n",
    "    else:\n",
    "        failure=False\n",
    "        \n",
    "    #return bool fail or not \n",
    "    return(failure)\n"
   ]
  },
  {
   "cell_type": "code",
   "execution_count": 17,
   "metadata": {},
   "outputs": [
    {
     "data": {
      "text/plain": [
       "True"
      ]
     },
     "execution_count": 17,
     "metadata": {},
     "output_type": "execute_result"
    }
   ],
   "source": [
    "margin_prune (input_data[1][cycle], mean_y, y_25_above, y_25_below)"
   ]
  },
  {
   "cell_type": "code",
   "execution_count": 18,
   "metadata": {},
   "outputs": [],
   "source": [
    "cycles=559"
   ]
  },
  {
   "cell_type": "markdown",
   "metadata": {},
   "source": [
    "# Amplitude-based Hueristic"
   ]
  },
  {
   "cell_type": "code",
   "execution_count": 19,
   "metadata": {},
   "outputs": [],
   "source": [
    "def get_amplitude(upper_curve,lower_curve):\n",
    "    \n",
    "    temp_mean = np.mean(upper_curve)\n",
    "    lower_curve=temp_mean\n",
    "    \n",
    "    # Calculate the difference between the two curves\n",
    "    diff = upper_curve - lower_curve\n",
    "    #print(diff)\n",
    "    #print(len(diff))\n",
    "\n",
    "    # Identify the positive areas\n",
    "    positive_areas = np.where(diff > 0)[0]\n",
    "    #print(positive_areas)\n",
    "    #print(len(positive_areas))\n",
    "\n",
    "    # Find the maximum value in each positive area\n",
    "    max_values = []\n",
    "    for i in range(len(positive_areas)-1):\n",
    "        start = positive_areas[i]\n",
    "        end = positive_areas[i+1]\n",
    "        if diff[start:end].size > 0:\n",
    "            max_values.append(np.max(diff[start:end]))\n",
    "\n",
    "    # Calculate the average of the maximum values\n",
    "    if len(max_values)>0:\n",
    "        average_amplitude = np.mean(max_values)\n",
    "    else:\n",
    "        average_amplitude=0\n",
    "    \n",
    "    #print(average_amplitude)\n",
    "    \n",
    "    return(average_amplitude)\n"
   ]
  },
  {
   "cell_type": "code",
   "execution_count": 20,
   "metadata": {},
   "outputs": [],
   "source": [
    "def get_length (upper_curve,lower_curve):\n",
    "    \n",
    "    # Calculate the difference between the two curves\n",
    "    diff = upper_curve - lower_curve\n",
    "\n",
    "    # Find indices of positive areas\n",
    "    positive_indices = np.where(diff > 0)[0]\n",
    "\n",
    "    # Compute length of positive areas\n",
    "    positive_lengths = len(positive_indices)\n",
    "\n",
    "    #print(\"Length of positive areas:\", positive_lengths)\n",
    "    return (positive_lengths)"
   ]
  },
  {
   "cell_type": "code",
   "execution_count": 21,
   "metadata": {},
   "outputs": [],
   "source": [
    "def hueristic (sample, theoritical, above, below, cycle):\n",
    "    ##amplitude\n",
    "    amplitude=get_amplitude(sample,theoritical)\n",
    "    #print(amplitude)\n",
    "    \n",
    "    temp_mean = np.mean(sample)\n",
    "    #normalized_amplitude = (amplitude - 0) / ((y_all_max-mean_y) - 0)\n",
    "    normalized_amplitude = (amplitude - 0) / ((y_all_max-temp_mean) - 0)\n",
    "\n",
    "    #print(normalized_amplitude)\n",
    "    #print(y_all_max)\n",
    "\n",
    "    ##length\n",
    "    length=get_length (sample,theoritical)\n",
    "    #print(length)\n",
    "    normalized_length=length/cycle_time_series\n",
    "    #print(normalized_length)\n",
    "    \n",
    "    ##variance\n",
    "    # Compute the minimum and maximum variance values in the dataset and get current variance\n",
    "#     variance_list=[]\n",
    "#     for i in range(cycles):\n",
    "#         temp = np.sum((input_data[1][i] - mean_y)**2) / (len(sample) - 1)\n",
    "#         variance_list.append(temp)\n",
    "\n",
    "    \n",
    "    # Current variance    \n",
    "    variance_list = np.var(input_data[1][:], axis=1)\n",
    "    variance=variance_list[cycle]\n",
    "    #print(variance)\n",
    "    # Compute the minimum and maximum variance values in the dataset\n",
    "    min_variance = np.min(variance_list)\n",
    "    max_variance = np.max(variance_list)\n",
    "    #print(min_variance,max_variance)\n",
    "\n",
    "    # Normalize the variance value between 0 and 1\n",
    "    normalized_variance = ((variance - min_variance) / (max_variance - min_variance))\n",
    "\n",
    "    #print(normalized_variance)\n",
    "\n",
    "    DLS=(normalized_amplitude+normalized_length+normalized_variance)/3\n",
    "    \n",
    "    return DLS \n",
    "    "
   ]
  },
  {
   "cell_type": "code",
   "execution_count": 22,
   "metadata": {},
   "outputs": [
    {
     "data": {
      "text/plain": [
       "0.3236461227268889"
      ]
     },
     "execution_count": 22,
     "metadata": {},
     "output_type": "execute_result"
    }
   ],
   "source": [
    "hueristic (input_data[1][cycle], mean_y, y_25_above, y_25_below, cycle)"
   ]
  },
  {
   "cell_type": "markdown",
   "metadata": {},
   "source": [
    "## Evaluate the heuristic module using RUL"
   ]
  },
  {
   "cell_type": "code",
   "execution_count": 23,
   "metadata": {},
   "outputs": [],
   "source": [
    "## create solutions arrays\n",
    "import copy\n",
    "import timeit\n",
    "import time\n",
    "\n",
    "\n",
    "RUL_list=copy.deepcopy(RUL)\n",
    "Heuristic_list=[]\n",
    "no_pruning=[]\n",
    "margin_15=[]\n",
    "margin_20=[]\n",
    "margin_30=[]\n",
    "amplitude_only=[]\n",
    "variance_only=[]\n",
    "length_only=[]\n",
    "amplitude_variance=[]\n",
    "amplitude_length=[]\n",
    "variance_length=[]\n",
    "\n",
    "pruning_percent1=0.05\n",
    "pruning_percent2=0.10\n",
    "pruning_percent3=0.15\n",
    "pruning_percent4=0.20\n",
    "\n",
    "\n",
    "\n",
    "#normalize RUL\n",
    "minimum = min(RUL_list)\n",
    "maximum = max(RUL_list)\n",
    "normalized_RUL = [(x - minimum) / (maximum - minimum) for x in RUL_list]\n",
    "    \n",
    "#Heuristic_list\n",
    "for i in range(cycles):\n",
    "    start_time = time.time()\n",
    "    above = mean_y + pruning_percent1 * (y_all_max - mean_y)\n",
    "    below = mean_y - pruning_percent1 * (y_all_max - mean_y)\n",
    "    is_failure=margin_prune (input_data[1][i], mean_y, above, below)\n",
    "    DLS=0\n",
    "    if is_failure:\n",
    "        DLS=hueristic (input_data[1][i], mean_y, above, below,i)\n",
    "    else:\n",
    "        DLS=0\n",
    "    execution_time=time.time() - start_time\n",
    "    Heuristic_list.append([DLS,execution_time])\n",
    "\n",
    "#no_pruning\n",
    "for i in range(cycles):\n",
    "    start_time = time.time()\n",
    "    above = mean_y + pruning_percent1 * (y_all_max - mean_y)\n",
    "    below = mean_y - pruning_percent1 * (y_all_max - mean_y)\n",
    "    #is_failure=margin_prune (processed_train_data[i][:, 2], mean_y, above, below)\n",
    "    DLS=hueristic (input_data[1][i], mean_y, above, below,i)\n",
    "    execution_time=time.time() - start_time\n",
    "    no_pruning.append([DLS,execution_time])\n",
    "    \n",
    "#margin_15\n",
    "for i in range(cycles):\n",
    "    start_time = time.time()\n",
    "    above = mean_y + pruning_percent2 * (y_all_max - mean_y)\n",
    "    below = mean_y - pruning_percent2 * (y_all_max - mean_y)\n",
    "    is_failure=margin_prune (input_data[1][i], mean_y, above, below)\n",
    "    DLS=0\n",
    "    if is_failure:\n",
    "        DLS=hueristic (input_data[1][i], mean_y, above, below,i)\n",
    "    else:\n",
    "        DLS=0\n",
    "    execution_time=time.time() - start_time\n",
    "    margin_15.append([DLS,execution_time])\n",
    "        \n",
    "#margin_20\n",
    "for i in range(cycles):\n",
    "    start_time = time.time()\n",
    "    above = mean_y + pruning_percent3 * (y_all_max - mean_y)\n",
    "    below = mean_y - pruning_percent3 * (y_all_max - mean_y)\n",
    "    is_failure=margin_prune (input_data[1][i], mean_y, above, below)\n",
    "    DLS=0\n",
    "    if is_failure:\n",
    "        DLS=hueristic (input_data[1][i], mean_y, above, below,i)\n",
    "    else:\n",
    "        DLS=0\n",
    "    execution_time=time.time() - start_time\n",
    "    margin_20.append([DLS,execution_time])\n",
    "    \n",
    "#margin_30\n",
    "for i in range(cycles):\n",
    "    start_time = time.time()\n",
    "    above = mean_y + pruning_percent4 * (y_all_max - mean_y)\n",
    "    below = mean_y - pruning_percent4 * (y_all_max - mean_y)\n",
    "    is_failure=margin_prune (input_data[1][i], mean_y, above, below)\n",
    "    DLS=0\n",
    "    if is_failure:\n",
    "        DLS=hueristic (input_data[1][i], mean_y, above, below,i)\n",
    "    else:\n",
    "        DLS=0\n",
    "    execution_time=time.time() - start_time\n",
    "    margin_30.append([DLS,execution_time])\n",
    "\n",
    "#amplitude_only\n",
    "for i in range(cycles):\n",
    "    start_time = time.time()\n",
    "    above = mean_y + pruning_percent1 * (y_all_max - mean_y)\n",
    "    below = mean_y - pruning_percent1 * (y_all_max - mean_y)\n",
    "    is_failure=margin_prune (input_data[1][i], mean_y, above, below)\n",
    "    DLS=0\n",
    "    if is_failure:\n",
    "        amplitude=get_amplitude(input_data[1][i],mean_y)\n",
    "        temp_mean = np.mean(input_data[1][i])\n",
    "        normalized_amplitude = (amplitude - 0) / ((y_all_max-temp_mean) - 0)\n",
    "        DLS=normalized_amplitude\n",
    "    else:\n",
    "        DLS=0\n",
    "    execution_time=time.time() - start_time\n",
    "    amplitude_only.append([DLS,execution_time])\n",
    "    \n",
    "#variance_only\n",
    "# variance_list=[]\n",
    "# for i in range(cycles):\n",
    "#     temp = np.sum((input_data[1][i] - mean_y)**2) / (len(input_data[1][0]) - 1)\n",
    "#     variance_list.append(temp)\n",
    "variance_list = np.var(input_data[1][:], axis=1)\n",
    "for i in range(cycles):\n",
    "    start_time = time.time()\n",
    "    above = mean_y + pruning_percent1 * (y_all_max - mean_y)\n",
    "    below = mean_y - pruning_percent1 * (y_all_max - mean_y)\n",
    "    is_failure=margin_prune (input_data[1][i], mean_y, above, below)\n",
    "    DLS=0\n",
    "    if is_failure:\n",
    "        variance=variance_list[i]\n",
    "        min_variance = np.min(variance_list)\n",
    "        max_variance = np.max(variance_list)\n",
    "        normalized_variance = ((variance - min_variance) / (max_variance - min_variance))\n",
    "        DLS=normalized_variance\n",
    "    else:\n",
    "        DLS=0\n",
    "    execution_time=time.time() - start_time\n",
    "    variance_only.append([0+DLS,execution_time])\n",
    "    \n",
    "#length_only\n",
    "for i in range(cycles):\n",
    "    start_time = time.time()\n",
    "    above = mean_y + pruning_percent1 * (y_all_max - mean_y)\n",
    "    below = mean_y - pruning_percent1 * (y_all_max - mean_y)\n",
    "    is_failure=margin_prune (input_data[1][i], mean_y, above, below)\n",
    "    DLS=0\n",
    "    if is_failure:\n",
    "        length=get_length (input_data[1][i],mean_y)\n",
    "        normalized_length=length/cycle_time_series\n",
    "        DLS=normalized_length\n",
    "    else:\n",
    "        DLS=0\n",
    "    execution_time=time.time() - start_time\n",
    "    length_only.append([DLS,execution_time])\n",
    "    \n",
    "#amplitude_variance\n",
    "for i in range(cycles):\n",
    "    start_time = time.time()\n",
    "    above = mean_y + pruning_percent1 * (y_all_max - mean_y)\n",
    "    below = mean_y - pruning_percent1 * (y_all_max - mean_y)\n",
    "    is_failure=margin_prune (input_data[1][i], mean_y, above, below)\n",
    "    DLS=0\n",
    "    if is_failure:\n",
    "        amplitude=get_amplitude(input_data[1][i],mean_y)\n",
    "        temp_mean = np.mean(input_data[1][i])\n",
    "        normalized_amplitude = (amplitude - 0) / ((y_all_max-temp_mean) - 0)\n",
    "        variance = variance_list[i]\n",
    "        min_variance = np.min(variance_list)\n",
    "        max_variance = np.max(variance_list)\n",
    "        normalized_variance = ((variance - min_variance) / (max_variance - min_variance))\n",
    "        DLS=(normalized_amplitude+normalized_variance)/2\n",
    "    else:\n",
    "        DLS=0\n",
    "    #print(DLS)\n",
    "    execution_time=time.time() - start_time\n",
    "    amplitude_variance.append([DLS,execution_time])\n",
    "    \n",
    "#amplitude_length\n",
    "for i in range(cycles):\n",
    "    start_time = time.time()\n",
    "    above = mean_y + pruning_percent1 * (y_all_max - mean_y)\n",
    "    below = mean_y - pruning_percent1 * (y_all_max - mean_y)\n",
    "    is_failure=margin_prune (input_data[1][i], mean_y, above, below)\n",
    "    DLS=0\n",
    "    if is_failure:\n",
    "        amplitude=get_amplitude(input_data[1][i],mean_y)\n",
    "        temp_mean = np.mean(input_data[1][i])\n",
    "        normalized_amplitude = (amplitude - 0) / ((y_all_max-temp_mean) - 0)\n",
    "        length=get_length (input_data[1][i],mean_y)\n",
    "        normalized_length=length/cycle_time_series\n",
    "        DLS=(normalized_amplitude+normalized_length)/2\n",
    "    else:\n",
    "        DLS=0\n",
    "    execution_time=time.time() - start_time\n",
    "    amplitude_length.append([DLS,execution_time])\n",
    "    \n",
    "#variance_length\n",
    "for i in range(cycles):\n",
    "    start_time = time.time()\n",
    "    above = mean_y + pruning_percent1 * (y_all_max - mean_y)\n",
    "    below = mean_y - pruning_percent1 * (y_all_max - mean_y)\n",
    "    is_failure=margin_prune (input_data[1][i], mean_y, above, below)\n",
    "    DLS=0\n",
    "    if is_failure:\n",
    "        length=get_length (input_data[1][i],mean_y)\n",
    "        normalized_length=length/cycle_time_series\n",
    "        variance = variance_list[i]\n",
    "        min_variance = np.min(variance_list)\n",
    "        max_variance = np.max(variance_list)\n",
    "        normalized_variance = ((variance - min_variance) / (max_variance - min_variance))\n",
    "        DLS=(normalized_length+normalized_variance)/2\n",
    "    else:\n",
    "        DLS=0\n",
    "    execution_time=time.time() - start_time\n",
    "    variance_length.append([DLS,execution_time])"
   ]
  },
  {
   "cell_type": "code",
   "execution_count": 24,
   "metadata": {},
   "outputs": [
    {
     "name": "stdout",
     "output_type": "stream",
     "text": [
      "Heuristic_list 0.7994478165052218\n",
      "no_pruning 0.8911513127511306\n",
      "margin_15 0.6026137623019359\n",
      "margin_20 0.5547186726651925\n",
      "margin_30 0.5334005597384534\n",
      "amplitude_only 0.8187720538366169\n",
      "variance_only 0.8229413967199746\n",
      "length_only 0.7191600150612836\n",
      "amplitude_variance 0.8288311326689152\n",
      "amplitude_length 0.7595150239105944\n",
      "variance_length 0.7920755994022028\n"
     ]
    }
   ],
   "source": [
    "# Calculate correlation coefficients\n",
    "normalized_flipped_RUL1 = [1 - x for x in normalized_RUL]\n",
    "\n",
    "#Heuristic_list\n",
    "masked_list1 = np.ma.masked_array(normalized_flipped_RUL1[:cycles], np.isnan(normalized_flipped_RUL1[:cycles]))\n",
    "masked_list2 = np.ma.masked_array([row[0] for row in Heuristic_list], np.isnan([row[0] for row in Heuristic_list]))\n",
    "# Compute the normalized cross-correlation\n",
    "corr = np.correlate(masked_list1, masked_list2, mode='valid') / (np.linalg.norm(masked_list1) * np.linalg.norm(masked_list2))\n",
    "ncc = np.mean(corr)\n",
    "# Calculate correlation coefficient\n",
    "#corr_coef = np.ma.corrcoef(masked_list1, masked_list2)[0,1]\n",
    "print('Heuristic_list',ncc)\n",
    "\n",
    "#no_pruning\n",
    "# Create masked arrays\n",
    "masked_list1 = np.ma.masked_array(normalized_flipped_RUL1[:cycles], np.isnan(normalized_flipped_RUL1[:cycles]))\n",
    "masked_list2 = np.ma.masked_array([row[0] for row in no_pruning], np.isnan([row[0] for row in no_pruning]))\n",
    "# Calculate correlation coefficient\n",
    "#corr_coef = np.ma.corrcoef(masked_list1, masked_list2)[0,1]\n",
    "corr = np.correlate(masked_list1, masked_list2, mode='valid') / (np.linalg.norm(masked_list1) * np.linalg.norm(masked_list2))\n",
    "ncc = np.mean(corr)\n",
    "print('no_pruning',ncc)\n",
    "\n",
    "#margin_15\n",
    "# Create masked arrays\n",
    "masked_list1 = np.ma.masked_array(normalized_flipped_RUL1[:cycles], np.isnan(normalized_flipped_RUL1[:cycles]))\n",
    "masked_list2 = np.ma.masked_array([row[0] for row in margin_15], np.isnan([row[0] for row in margin_15]))\n",
    "# Calculate correlation coefficient\n",
    "#corr_coef = np.ma.corrcoef(masked_list1, masked_list2)[0,1]\n",
    "corr = np.correlate(masked_list1, masked_list2, mode='valid') / (np.linalg.norm(masked_list1) * np.linalg.norm(masked_list2))\n",
    "ncc = np.mean(corr)\n",
    "print('margin_15',ncc)\n",
    "\n",
    "#margin_20\n",
    "# Create masked arrays\n",
    "masked_list1 = np.ma.masked_array(normalized_flipped_RUL1[:cycles], np.isnan(normalized_flipped_RUL1[:cycles]))\n",
    "masked_list2 = np.ma.masked_array([row[0] for row in margin_20], np.isnan([row[0] for row in margin_20]))\n",
    "# Calculate correlation coefficient\n",
    "#corr_coef = np.ma.corrcoef(masked_list1, masked_list2)[0,1]\n",
    "corr = np.correlate(masked_list1, masked_list2, mode='valid') / (np.linalg.norm(masked_list1) * np.linalg.norm(masked_list2))\n",
    "ncc = np.mean(corr)\n",
    "print('margin_20',ncc)\n",
    "\n",
    "#margin_30\n",
    "# Create masked arrays\n",
    "masked_list1 = np.ma.masked_array(normalized_flipped_RUL1[:cycles], np.isnan(normalized_flipped_RUL1[:cycles]))\n",
    "masked_list2 = np.ma.masked_array([row[0] for row in margin_30], np.isnan([row[0] for row in margin_30]))\n",
    "# Calculate correlation coefficient\n",
    "#corr_coef = np.ma.corrcoef(masked_list1, masked_list2)[0,1]\n",
    "corr = np.correlate(masked_list1, masked_list2, mode='valid') / (np.linalg.norm(masked_list1) * np.linalg.norm(masked_list2))\n",
    "ncc = np.mean(corr)\n",
    "print('margin_30',ncc)\n",
    "\n",
    "#amplitude_only\n",
    "# Create masked arrays\n",
    "masked_list1 = np.ma.masked_array(normalized_flipped_RUL1[:cycles], np.isnan(normalized_flipped_RUL1[:cycles]))\n",
    "masked_list2 = np.ma.masked_array([row[0] for row in amplitude_only], np.isnan([row[0] for row in amplitude_only]))\n",
    "# Calculate correlation coefficient\n",
    "#corr_coef = np.ma.corrcoef(masked_list1, masked_list2)[0,1]\n",
    "corr = np.correlate(masked_list1, masked_list2, mode='valid') / (np.linalg.norm(masked_list1) * np.linalg.norm(masked_list2))\n",
    "ncc = np.mean(corr)\n",
    "print('amplitude_only',ncc)\n",
    "\n",
    "#variance_only\n",
    "# Create masked arrays\n",
    "masked_list1 = np.ma.masked_array(normalized_flipped_RUL1[:cycles], np.isnan(normalized_flipped_RUL1[:cycles]))\n",
    "masked_list2 = np.ma.masked_array([row[0] for row in variance_only], np.isnan([row[0] for row in variance_only]))\n",
    "# Calculate correlation coefficient\n",
    "#corr_coef = np.ma.corrcoef(masked_list1, masked_list2)[0,1]\n",
    "corr = np.correlate(masked_list1, masked_list2, mode='valid') / (np.linalg.norm(masked_list1) * np.linalg.norm(masked_list2))\n",
    "ncc = np.mean(corr)\n",
    "print('variance_only',ncc)\n",
    "\n",
    "#length_only\n",
    "# Create masked arrays\n",
    "masked_list1 = np.ma.masked_array(normalized_flipped_RUL1[:cycles], np.isnan(normalized_flipped_RUL1[:cycles]))\n",
    "masked_list2 = np.ma.masked_array([row[0] for row in length_only], np.isnan([row[0] for row in length_only]))\n",
    "# Calculate correlation coefficient\n",
    "#corr_coef = np.ma.corrcoef(masked_list1, masked_list2)[0,1]\n",
    "corr = np.correlate(masked_list1, masked_list2, mode='valid') / (np.linalg.norm(masked_list1) * np.linalg.norm(masked_list2))\n",
    "ncc = np.mean(corr)\n",
    "print('length_only',ncc)\n",
    "\n",
    "#amplitude_variance\n",
    "# Create masked arrays\n",
    "masked_list1 = np.ma.masked_array(normalized_flipped_RUL1[:cycles], np.isnan(normalized_flipped_RUL1[:cycles]))\n",
    "masked_list2 = np.ma.masked_array([row[0] for row in amplitude_variance], np.isnan([row[0] for row in amplitude_variance]))\n",
    "# Calculate correlation coefficient\n",
    "#corr_coef = np.ma.corrcoef(masked_list1, masked_list2)[0,1]\n",
    "corr = np.correlate(masked_list1, masked_list2, mode='valid') / (np.linalg.norm(masked_list1) * np.linalg.norm(masked_list2))\n",
    "ncc = np.mean(corr)\n",
    "print('amplitude_variance',ncc)\n",
    "\n",
    "#amplitude_length\n",
    "# Create masked arrays\n",
    "masked_list1 = np.ma.masked_array(normalized_flipped_RUL1[:cycles], np.isnan(normalized_flipped_RUL1[:cycles]))\n",
    "masked_list2 = np.ma.masked_array([row[0] for row in amplitude_length], np.isnan([row[0] for row in amplitude_length]))\n",
    "# Calculate correlation coefficient\n",
    "#corr_coef = np.ma.corrcoef(masked_list1, masked_list2)[0,1]\n",
    "corr = np.correlate(masked_list1, masked_list2, mode='valid') / (np.linalg.norm(masked_list1) * np.linalg.norm(masked_list2))\n",
    "ncc = np.mean(corr)\n",
    "print('amplitude_length',ncc)\n",
    "\n",
    "#variance_length\n",
    "# Create masked arrays\n",
    "masked_list1 = np.ma.masked_array(normalized_flipped_RUL1[:cycles], np.isnan(normalized_flipped_RUL1[:cycles]))\n",
    "masked_list2 = np.ma.masked_array([row[0] for row in variance_length], np.isnan([row[0] for row in variance_length]))\n",
    "# Calculate correlation coefficient\n",
    "#corr_coef = np.ma.corrcoef(masked_list1, masked_list2)[0,1]\n",
    "corr = np.correlate(masked_list1, masked_list2, mode='valid') / (np.linalg.norm(masked_list1) * np.linalg.norm(masked_list2))\n",
    "ncc = np.mean(corr)\n",
    "print('variance_length',ncc)\n"
   ]
  },
  {
   "cell_type": "code",
   "execution_count": 25,
   "metadata": {},
   "outputs": [
    {
     "name": "stderr",
     "output_type": "stream",
     "text": [
      "/Users/balsamalkouz/opt/anaconda3/lib/python3.7/site-packages/IPython/core/interactiveshell.py:3457: RankWarning: Polyfit may be poorly conditioned\n",
      "  exec(code_obj, self.user_global_ns, self.user_ns)\n",
      "/Users/balsamalkouz/opt/anaconda3/lib/python3.7/site-packages/IPython/core/interactiveshell.py:3457: RankWarning: Polyfit may be poorly conditioned\n",
      "  exec(code_obj, self.user_global_ns, self.user_ns)\n",
      "/Users/balsamalkouz/opt/anaconda3/lib/python3.7/site-packages/IPython/core/interactiveshell.py:3457: RankWarning: Polyfit may be poorly conditioned\n",
      "  exec(code_obj, self.user_global_ns, self.user_ns)\n",
      "/Users/balsamalkouz/opt/anaconda3/lib/python3.7/site-packages/IPython/core/interactiveshell.py:3457: RankWarning: Polyfit may be poorly conditioned\n",
      "  exec(code_obj, self.user_global_ns, self.user_ns)\n",
      "/Users/balsamalkouz/opt/anaconda3/lib/python3.7/site-packages/IPython/core/interactiveshell.py:3457: RankWarning: Polyfit may be poorly conditioned\n",
      "  exec(code_obj, self.user_global_ns, self.user_ns)\n"
     ]
    },
    {
     "data": {
      "text/plain": [
       "<Figure size 432x288 with 0 Axes>"
      ]
     },
     "metadata": {},
     "output_type": "display_data"
    },
    {
     "data": {
      "image/png": "[encoded data removed]",
      "text/plain": [
       "<Figure size 432x288 with 1 Axes>"
      ]
     },
     "metadata": {
      "needs_background": "light"
     },
     "output_type": "display_data"
    }
   ],
   "source": [
    "import matplotlib.pyplot as plt\n",
    "import numpy as np\n",
    "\n",
    "fig = plt.figure(figsize=(6, 4))\n",
    "\n",
    "\n",
    "# Example data\n",
    "#print(Heuristic_list)\n",
    "Heuristic_list1 = [row[0] for row in Heuristic_list]\n",
    "normalized_RUL1 = copy.deepcopy(normalized_RUL[:cycles])\n",
    "normalized_flipped_RUL1 = [1 - x for x in normalized_RUL1]\n",
    "margin_151 = [row[0] for row in margin_15]\n",
    "margin_201 = [row[0] for row in margin_20]\n",
    "\n",
    "\n",
    "# Create x-axis values\n",
    "x_values = np.arange(len(normalized_RUL1))\n",
    "\n",
    "# Calculate coefficients for best fit lines\n",
    "Heuristic_coeffs = np.polyfit(x_values, Heuristic_list1, 20)\n",
    "normalized_RUL_coeffs = np.polyfit(x_values, normalized_RUL1, 20)\n",
    "normalized_flippedRUL_coeffs = np.polyfit(x_values, normalized_flipped_RUL1, 20)\n",
    "margin15_coeffs = np.polyfit(x_values, margin_151, 20)\n",
    "margin20_coeffs = np.polyfit(x_values, margin_201, 20)\n",
    "\n",
    "\n",
    "# Create best fit line functions\n",
    "Heuristic_fit = np.poly1d(Heuristic_coeffs)\n",
    "normalized_RUL_fit = np.poly1d(normalized_RUL_coeffs)\n",
    "normalized_flippedRUL_fit = np.poly1d(normalized_flippedRUL_coeffs)\n",
    "margin15_fit = np.poly1d(margin15_coeffs)\n",
    "margin20_fit = np.poly1d(margin20_coeffs)\n",
    "\n",
    "\n",
    "# Create plot\n",
    "fig, ax = plt.subplots()\n",
    "#ax.plot(x_values, Heuristic_list1, label='Heuristic List', marker='o')\n",
    "#ax.plot(x_values, normalized_RUL1, label='Normalized RUL', marker='s')\n",
    "#ax.plot(x_values, normalized_RUL_fit(x_values), 'k-', label='RUL Best Fit')\n",
    "\n",
    "ax.plot(x_values, normalized_flippedRUL_fit(x_values), 'k-', label='Flipped RUL')\n",
    "ax.plot(x_values, Heuristic_fit(x_values), 'r-.', label='10% Margin DLS')\n",
    "ax.plot(x_values, margin15_fit(x_values), 'b:', label='15% Margin DLS')\n",
    "ax.plot(x_values, margin20_fit(x_values), 'g--', label='20% Margin DLS')\n",
    "\n",
    "\n",
    "# Set axis labels, title, and legend\n",
    "ax.set_xlabel('Cycles',fontsize=14)\n",
    "ax.set_ylabel('Normalised Values',fontsize=14)\n",
    "\n",
    "#ax.set_title('Normalized RUL and Heuristics vs Cycles')\n",
    "ax.legend(fontsize=12, frameon=True, framealpha=1, edgecolor='black', facecolor='white', loc='upper center', bbox_to_anchor=(0.5, -0.2), ncol=2)\n",
    "\n",
    "ax.set_facecolor(\"white\")\n",
    "\n",
    "# Add a border around the plot\n",
    "for spine in ax.spines.values():\n",
    "    spine.set_edgecolor('black')\n",
    "    spine.set_linewidth(1)\n",
    "\n",
    "plt.savefig('Margins.png', dpi=300, bbox_inches='tight')\n",
    "\n",
    "# Display plot\n",
    "plt.show()\n"
   ]
  },
  {
   "cell_type": "code",
   "execution_count": 26,
   "metadata": {},
   "outputs": [
    {
     "name": "stderr",
     "output_type": "stream",
     "text": [
      "/Users/balsamalkouz/opt/anaconda3/lib/python3.7/site-packages/IPython/core/interactiveshell.py:3457: RankWarning: Polyfit may be poorly conditioned\n",
      "  exec(code_obj, self.user_global_ns, self.user_ns)\n",
      "/Users/balsamalkouz/opt/anaconda3/lib/python3.7/site-packages/IPython/core/interactiveshell.py:3457: RankWarning: Polyfit may be poorly conditioned\n",
      "  exec(code_obj, self.user_global_ns, self.user_ns)\n",
      "/Users/balsamalkouz/opt/anaconda3/lib/python3.7/site-packages/IPython/core/interactiveshell.py:3457: RankWarning: Polyfit may be poorly conditioned\n",
      "  exec(code_obj, self.user_global_ns, self.user_ns)\n",
      "/Users/balsamalkouz/opt/anaconda3/lib/python3.7/site-packages/IPython/core/interactiveshell.py:3457: RankWarning: Polyfit may be poorly conditioned\n",
      "  exec(code_obj, self.user_global_ns, self.user_ns)\n"
     ]
    },
    {
     "data": {
      "text/plain": [
       "<Figure size 432x288 with 0 Axes>"
      ]
     },
     "metadata": {},
     "output_type": "display_data"
    },
    {
     "data": {
      "image/png": "[encoded data removed]",
      "text/plain": [
       "<Figure size 432x288 with 1 Axes>"
      ]
     },
     "metadata": {
      "needs_background": "light"
     },
     "output_type": "display_data"
    }
   ],
   "source": [
    "import matplotlib.pyplot as plt\n",
    "import numpy as np\n",
    "\n",
    "fig = plt.figure(figsize=(6, 4))\n",
    "\n",
    "# Example data\n",
    "#print(Heuristic_list)\n",
    "Heuristic_list1 = [row[0] for row in Heuristic_list]\n",
    "normalized_RUL1 = copy.deepcopy(normalized_RUL[:cycles])\n",
    "normalized_flipped_RUL1 = [1 - x for x in normalized_RUL1]\n",
    "no_pruning1 = [row[0] for row in no_pruning]\n",
    "# Replace NaN values with zeros\n",
    "no_pruning1 = np.nan_to_num(no_pruning1)\n",
    "\n",
    "\n",
    "# Create x-axis values\n",
    "x_values = np.arange(len(normalized_RUL1))\n",
    "\n",
    "# Calculate coefficients for best fit lines\n",
    "Heuristic_coeffs = np.polyfit(x_values, Heuristic_list1, 20)\n",
    "normalized_RUL_coeffs = np.polyfit(x_values, normalized_RUL1, 20)\n",
    "normalized_flippedRUL_coeffs = np.polyfit(x_values, normalized_flipped_RUL1, 20)\n",
    "no_pruning_coeffs = np.polyfit(x_values, no_pruning1, 20)\n",
    "\n",
    "\n",
    "# Create best fit line functions\n",
    "Heuristic_fit = np.poly1d(Heuristic_coeffs)\n",
    "normalized_RUL_fit = np.poly1d(normalized_RUL_coeffs)\n",
    "normalized_flippedRUL_fit = np.poly1d(normalized_flippedRUL_coeffs)\n",
    "no_pruning_fit = np.poly1d(no_pruning_coeffs)\n",
    "\n",
    "\n",
    "# Create plot\n",
    "fig, ax = plt.subplots()\n",
    "#ax.plot(x_values, Heuristic_list1, label='Heuristic List', marker='o')\n",
    "#ax.plot(x_values, normalized_RUL1, label='Normalized RUL', marker='s')\n",
    "ax.plot(x_values, Heuristic_fit(x_values), 'r-.', label='Heursitic DLS')\n",
    "#ax.plot(x_values, normalized_RUL_fit(x_values), 'k-', label='RUL Best Fit')\n",
    "ax.plot(x_values, normalized_flippedRUL_fit(x_values), 'k-', label='Flipped RUL')\n",
    "ax.plot(x_values, no_pruning_fit(x_values), 'b:', label='No Pruning DLS')\n",
    "\n",
    "\n",
    "# Set axis labels, title, and legend\n",
    "ax.set_xlabel('Cycles',fontsize=14)\n",
    "ax.set_ylabel('Normalised Values',fontsize=14)\n",
    "\n",
    "#ax.set_title('Normalized RUL and Heuristics vs Cycles')\n",
    "ax.legend(fontsize=12, frameon=True, framealpha=1, edgecolor='black', facecolor='white', loc='upper center', bbox_to_anchor=(0.5, -0.2), ncol=3)\n",
    "\n",
    "ax.set_facecolor(\"white\")\n",
    "\n",
    "# Add a border around the plot\n",
    "for spine in ax.spines.values():\n",
    "    spine.set_edgecolor('black')\n",
    "    spine.set_linewidth(1)\n",
    "\n",
    "plt.savefig('pruning.png', dpi=300, bbox_inches='tight')\n",
    "\n",
    "# Display plot\n",
    "plt.show()\n"
   ]
  },
  {
   "cell_type": "code",
   "execution_count": 27,
   "metadata": {},
   "outputs": [
    {
     "name": "stderr",
     "output_type": "stream",
     "text": [
      "/Users/balsamalkouz/opt/anaconda3/lib/python3.7/site-packages/IPython/core/interactiveshell.py:3457: RankWarning: Polyfit may be poorly conditioned\n",
      "  exec(code_obj, self.user_global_ns, self.user_ns)\n",
      "/Users/balsamalkouz/opt/anaconda3/lib/python3.7/site-packages/IPython/core/interactiveshell.py:3457: RankWarning: Polyfit may be poorly conditioned\n",
      "  exec(code_obj, self.user_global_ns, self.user_ns)\n"
     ]
    },
    {
     "data": {
      "text/plain": [
       "<Figure size 432x288 with 0 Axes>"
      ]
     },
     "metadata": {},
     "output_type": "display_data"
    },
    {
     "data": {
      "image/png": "[encoded data removed]",
      "text/plain": [
       "<Figure size 432x288 with 1 Axes>"
      ]
     },
     "metadata": {
      "needs_background": "light"
     },
     "output_type": "display_data"
    }
   ],
   "source": [
    "import matplotlib.pyplot as plt\n",
    "import numpy as np\n",
    "\n",
    "fig = plt.figure(figsize=(6, 4))\n",
    "\n",
    "# Example data\n",
    "#print(Heuristic_list)\n",
    "Heuristic_list1 = [row[1] for row in Heuristic_list]\n",
    "normalized_RUL1 = copy.deepcopy(normalized_RUL[:cycles])\n",
    "no_pruning1 = [row[1] for row in no_pruning]\n",
    "# Replace NaN values with zeros\n",
    "no_pruning1 = np.nan_to_num(no_pruning1)\n",
    "\n",
    "\n",
    "# Create x-axis values\n",
    "x_values = np.arange(len(normalized_RUL1))\n",
    "\n",
    "# Calculate coefficients for best fit lines\n",
    "Heuristic_coeffs = np.polyfit(x_values, Heuristic_list1, 20)\n",
    "no_pruning_coeffs = np.polyfit(x_values, no_pruning1, 20)\n",
    "\n",
    "\n",
    "# Create best fit line functions\n",
    "Heuristic_fit = np.poly1d(Heuristic_coeffs)\n",
    "no_pruning_fit = np.poly1d(no_pruning_coeffs)\n",
    "\n",
    "\n",
    "# Create plot\n",
    "fig, ax = plt.subplots()\n",
    "\n",
    "ax.plot(x_values, Heuristic_fit(x_values), 'k-', label='Heuristic')\n",
    "ax.plot(x_values, no_pruning_fit(x_values), 'b:', label='No Pruning')\n",
    "\n",
    "\n",
    "# Set axis labels, title, and legend\n",
    "ax.set_xlabel('Cycles',fontsize=14)\n",
    "ax.set_ylabel('Execution Time (s)',fontsize=14)\n",
    "\n",
    "#ax.set_title('Normalized RUL and Heuristics vs Cycles')\n",
    "ax.legend(fontsize=12, frameon=True, framealpha=1, edgecolor='black', facecolor='white', loc='upper center', bbox_to_anchor=(0.5, -0.2), ncol=3)\n",
    "\n",
    "ax.set_facecolor(\"white\")\n",
    "\n",
    "# Add a border around the plot\n",
    "for spine in ax.spines.values():\n",
    "    spine.set_edgecolor('black')\n",
    "    spine.set_linewidth(1)\n",
    "\n",
    "plt.savefig('execution.png', dpi=300, bbox_inches='tight')\n",
    "\n",
    "# Display plot\n",
    "plt.show()\n"
   ]
  },
  {
   "cell_type": "code",
   "execution_count": 28,
   "metadata": {},
   "outputs": [
    {
     "name": "stderr",
     "output_type": "stream",
     "text": [
      "/Users/balsamalkouz/opt/anaconda3/lib/python3.7/site-packages/IPython/core/interactiveshell.py:3457: RankWarning: Polyfit may be poorly conditioned\n",
      "  exec(code_obj, self.user_global_ns, self.user_ns)\n",
      "/Users/balsamalkouz/opt/anaconda3/lib/python3.7/site-packages/IPython/core/interactiveshell.py:3457: RankWarning: Polyfit may be poorly conditioned\n",
      "  exec(code_obj, self.user_global_ns, self.user_ns)\n",
      "/Users/balsamalkouz/opt/anaconda3/lib/python3.7/site-packages/IPython/core/interactiveshell.py:3457: RankWarning: Polyfit may be poorly conditioned\n",
      "  exec(code_obj, self.user_global_ns, self.user_ns)\n",
      "/Users/balsamalkouz/opt/anaconda3/lib/python3.7/site-packages/IPython/core/interactiveshell.py:3457: RankWarning: Polyfit may be poorly conditioned\n",
      "  exec(code_obj, self.user_global_ns, self.user_ns)\n",
      "/Users/balsamalkouz/opt/anaconda3/lib/python3.7/site-packages/IPython/core/interactiveshell.py:3457: RankWarning: Polyfit may be poorly conditioned\n",
      "  exec(code_obj, self.user_global_ns, self.user_ns)\n",
      "/Users/balsamalkouz/opt/anaconda3/lib/python3.7/site-packages/IPython/core/interactiveshell.py:3457: RankWarning: Polyfit may be poorly conditioned\n",
      "  exec(code_obj, self.user_global_ns, self.user_ns)\n"
     ]
    },
    {
     "data": {
      "text/plain": [
       "<Figure size 432x288 with 0 Axes>"
      ]
     },
     "metadata": {},
     "output_type": "display_data"
    },
    {
     "data": {
      "image/png": "[encoded data removed]",
      "text/plain": [
       "<Figure size 432x288 with 1 Axes>"
      ]
     },
     "metadata": {
      "needs_background": "light"
     },
     "output_type": "display_data"
    }
   ],
   "source": [
    "import matplotlib.pyplot as plt\n",
    "import numpy as np\n",
    "\n",
    "fig = plt.figure(figsize=(6, 4))\n",
    "\n",
    "# Heuristic_list=[]\n",
    "# no_pruning=[]\n",
    "# margin_15=[]\n",
    "# margin_20=[]\n",
    "# amplitude_only=[]\n",
    "# variance_only=[]\n",
    "# length_only=[]\n",
    "# amplitude_variance=[]\n",
    "# amplitude_length=[]\n",
    "# variance_length=[]\n",
    "\n",
    "# Example data\n",
    "#print(Heuristic_list)\n",
    "Heuristic_list1 = [row[0] for row in Heuristic_list]\n",
    "normalized_RUL1 = copy.deepcopy(normalized_RUL[:cycles])\n",
    "normalized_flipped_RUL1 = [1 - x for x in normalized_RUL1]\n",
    "amplitude_only1 = [row[0] for row in amplitude_only]\n",
    "variance_only1 = [row[0] for row in variance_only]\n",
    "length_only1 = [row[0] for row in length_only]\n",
    "\n",
    "\n",
    "# Replace NaN values with zeros\n",
    "#no_pruning1 = np.nan_to_num(no_pruning1)\n",
    "\n",
    "\n",
    "# Create x-axis values\n",
    "x_values = np.arange(len(normalized_RUL1))\n",
    "\n",
    "# Calculate coefficients for best fit lines\n",
    "Heuristic_coeffs = np.polyfit(x_values, Heuristic_list1, 20)\n",
    "normalized_RUL_coeffs = np.polyfit(x_values, normalized_RUL1, 20)\n",
    "normalized_flippedRUL_coeffs = np.polyfit(x_values, normalized_flipped_RUL1, 20)\n",
    "amplitude_only_coeffs = np.polyfit(x_values, amplitude_only1, 20)\n",
    "variance_only_coeffs = np.polyfit(x_values, variance_only1, 20)\n",
    "length_only_coeffs = np.polyfit(x_values, length_only1, 20)\n",
    "\n",
    "\n",
    "# Create best fit line functions\n",
    "Heuristic_fit = np.poly1d(Heuristic_coeffs)\n",
    "normalized_RUL_fit = np.poly1d(normalized_RUL_coeffs)\n",
    "normalized_flippedRUL_fit = np.poly1d(normalized_flippedRUL_coeffs)\n",
    "amplitude_only_fit = np.poly1d(amplitude_only_coeffs)\n",
    "variance_only_fit = np.poly1d(variance_only_coeffs)\n",
    "length_only_fit = np.poly1d(length_only_coeffs)\n",
    "\n",
    "\n",
    "# Create plot\n",
    "fig, ax = plt.subplots()\n",
    "\n",
    "ax.plot(x_values, Heuristic_fit(x_values), 'r-.', label='Heurisitic DLS')\n",
    "ax.plot(x_values, normalized_flippedRUL_fit(x_values), 'k-', label='Flipped RUL')\n",
    "ax.plot(x_values, amplitude_only_fit(x_values), 'b:', label='Amplitude Only DLS')\n",
    "ax.plot(x_values, variance_only_fit(x_values), 'g--', label='Variance Only DLS')\n",
    "ax.plot(x_values, length_only_fit(x_values), 'm--', label='Length Only DLS')\n",
    "\n",
    "\n",
    "# Set axis labels, title, and legend\n",
    "ax.set_xlabel('Cycles',fontsize=14)\n",
    "ax.set_ylabel('Normalised Values',fontsize=14)\n",
    "\n",
    "#ax.set_title('Normalized RUL and Heuristics vs Cycles')\n",
    "ax.legend(fontsize=12, frameon=True, framealpha=1, edgecolor='black', facecolor='white', loc='upper center', bbox_to_anchor=(0.5, -0.2), ncol=3)\n",
    "\n",
    "ax.set_facecolor(\"white\")\n",
    "\n",
    "# Add a border around the plot\n",
    "for spine in ax.spines.values():\n",
    "    spine.set_edgecolor('black')\n",
    "    spine.set_linewidth(1)\n",
    "\n",
    "plt.savefig('singlemethod.png', dpi=300, bbox_inches='tight')\n",
    "\n",
    "# Display plot\n",
    "plt.show()\n"
   ]
  },
  {
   "cell_type": "code",
   "execution_count": null,
   "metadata": {},
   "outputs": [],
   "source": []
  },
  {
   "cell_type": "code",
   "execution_count": null,
   "metadata": {},
   "outputs": [],
   "source": []
  },
  {
   "cell_type": "code",
   "execution_count": null,
   "metadata": {},
   "outputs": [],
   "source": []
  }
 ],
 "metadata": {
  "kernelspec": {
   "display_name": "Python 3 (ipykernel)",
   "language": "python",
   "name": "python3"
  },
  "language_info": {
   "codemirror_mode": {
    "name": "ipython",
    "version": 3
   },
   "file_extension": ".py",
   "mimetype": "text/x-python",
   "name": "python",
   "nbconvert_exporter": "python",
   "pygments_lexer": "ipython3",
   "version": "3.7.9"
  }
 },
 "nbformat": 4,
 "nbformat_minor": 4
}
